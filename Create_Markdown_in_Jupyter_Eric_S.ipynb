{
  "nbformat": 4,
  "nbformat_minor": 0,
  "metadata": {
    "kernelspec": {
      "display_name": "Python 3",
      "language": "python",
      "name": "python3"
    },
    "language_info": {
      "codemirror_mode": {
        "name": "ipython",
        "version": 3
      },
      "file_extension": ".py",
      "mimetype": "text/x-python",
      "name": "python",
      "nbconvert_exporter": "python",
      "pygments_lexer": "ipython3",
      "version": "3.7.6"
    },
    "colab": {
      "name": "Create Markdown in Jupyter_Eric S.ipynb",
      "provenance": [],
      "include_colab_link": true
    }
  },
  "cells": [
    {
      "cell_type": "markdown",
      "metadata": {
        "id": "view-in-github",
        "colab_type": "text"
      },
      "source": [
        "<a href=\"https://colab.research.google.com/github/erics1783/duke-coursera-ccf/blob/main/Create_Markdown_in_Jupyter_Eric_S.ipynb\" target=\"_parent\"><img src=\"https://colab.research.google.com/assets/colab-badge.svg\" alt=\"Open In Colab\"/></a>"
      ]
    },
    {
      "cell_type": "code",
      "metadata": {
        "id": "ckFCDKNn3Nmg",
        "outputId": "82c69aff-6346-4bb9-f1f0-be8a24ccdbc0"
      },
      "source": [
        "print('Hello World')"
      ],
      "execution_count": null,
      "outputs": [
        {
          "output_type": "stream",
          "text": [
            "Hello World\n"
          ],
          "name": "stdout"
        }
      ]
    },
    {
      "cell_type": "markdown",
      "metadata": {
        "id": "ePuI98Wa3Nmk"
      },
      "source": [
        "# This is the first Markdown Cell"
      ]
    },
    {
      "cell_type": "markdown",
      "metadata": {
        "id": "AdBhGkLJ3Nmk"
      },
      "source": [
        "It's fun to make Jupyter Notebooks!  Did you know, that that the name 'Jupyter' comes from a combination of Julia, Python, and R?"
      ]
    },
    {
      "cell_type": "markdown",
      "metadata": {
        "id": "jrtPUjsc3Nml"
      },
      "source": [
        "Some facts about me:\n",
        "* Favorite podcast:  [SuperDataScience](https://www.superdatascience.com/podcast)\n",
        "* Last book read:  [Atomic Habits](https://www.amazon.com/Atomic-Habits-James-Clear-audiobook/dp/B07RFSSYBH/ref=sr_1_1?crid=22NCWPDV7A77K&dchild=1&keywords=atomic+habits&qid=1622471258&sprefix=Atomic+Habits%2Caps%2C199&sr=8-1)"
      ]
    },
    {
      "cell_type": "code",
      "metadata": {
        "id": "lo6bgQbX3Nml"
      },
      "source": [
        ""
      ],
      "execution_count": null,
      "outputs": []
    }
  ]
}